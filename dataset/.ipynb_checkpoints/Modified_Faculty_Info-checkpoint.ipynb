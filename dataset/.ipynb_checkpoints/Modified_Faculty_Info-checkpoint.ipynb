{
 "cells": [
  {
   "cell_type": "code",
   "execution_count": 1,
   "metadata": {},
   "outputs": [],
   "source": [
    "import csv\n",
    "import fileinput\n",
    "import sys"
   ]
  },
  {
   "cell_type": "code",
   "execution_count": null,
   "metadata": {},
   "outputs": [],
   "source": []
  },
  {
   "cell_type": "markdown",
   "metadata": {},
   "source": [
    "\n",
    "\n",
    "import csv\n",
    "\n",
    "import fileinput\n",
    "\n",
    "import sys\n",
    "\n",
    "​\n",
    "\n",
    "​\n",
    "\n",
    "​\n",
    "\n",
    "def Writing_to_sql(list):\n",
    "\n",
    "    g = open('Data_Faculty.sql', mode='w')\n",
    "\n",
    "    with fileinput.input(files=(\"Data.sql\")) as file:\n",
    "\n",
    "        for Pro in list:\n",
    "\n",
    "            string = \"insert into TableName (NetId, FristName, LastName, Email) values ('\" + Pro[2]+ \"', '\"+ Pro[3]+ \"', '\" + Pro[4]+ \"','\" + Pro[1]+ \"');\\n\"\n",
    "\n",
    "            g.write(string)\n",
    "\n",
    "​\n",
    "\n",
    "        g.close()\n",
    "\n",
    "​\n",
    "\n",
    "with open('dataset_ece_faculty.csv') as file_csv:\n",
    "\n",
    "    file = csv.reader(file_csv)\n",
    "\n",
    "    list = file\n",
    "\n",
    "    list_of_name = []\n",
    "\n",
    "    for line in list:\n",
    "\n",
    "        NetId = line[1].split('@')\n",
    "\n",
    "        name = line[0].split()\n",
    "\n",
    "        line.append(NetId[0])\n",
    "\n",
    "        line.append(name[0])\n",
    "\n",
    "        line.append(name[(len(name) - 1)])\n",
    "\n",
    "        list_of_name.append(line)\n",
    "\n",
    "    Writing_to_sql(list_of_name)\n",
    "\n"
   ]
  }
 ],
 "metadata": {
  "kernelspec": {
   "display_name": "Python 3",
   "language": "python",
   "name": "python3"
  },
  "language_info": {
   "codemirror_mode": {
    "name": "ipython",
    "version": 2
   },
   "file_extension": ".py",
   "mimetype": "text/x-python",
   "name": "python",
   "nbconvert_exporter": "python",
   "pygments_lexer": "ipython2",
   "version": "2.7.12"
  }
 },
 "nbformat": 4,
 "nbformat_minor": 2
}
